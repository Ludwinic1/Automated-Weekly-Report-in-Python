{
 "cells": [
  {
   "cell_type": "markdown",
   "metadata": {},
   "source": [
    "# Data Engineer Project:  Automating Weekly Analytics Report\n",
    "The objective was to create a script that reads in an Excel file (csv with all strings) that contains info from a fictional bank loan database.  Then, by typing in any start and end date, the script will give the user a range of useful analytics for that time period.  The dates on the file are between 01/01/2020 and 03/28/2020.  The script also factors in blank values and converts the data types when needed.    \n",
    "\n",
    "Real world application:  Data analyst has to export data to Excel from a Customer Management System to constrcut a weekly report for senior management.  Instead of having to sort the data, apply multiple filters, and build a new report from scratch every week with new data, running this script will generate everything extremely quickly and accurately.  \n",
    "\n",
    "Real world application two:  Analyst has to run various ad-hoc reports.  For instance, how many loans were closed during the first quarter, for the year, or what the current approved new loan pipeline is.  The script is flexible and allows the analyst to generate the information fast.     \n",
    "\n",
    "For this project, only Python's built-in modules were used to show more in-depth code and how powerful the standard data structures can be.  "
   ]
  },
  {
   "cell_type": "code",
   "execution_count": 1,
   "metadata": {},
   "outputs": [],
   "source": [
    "# importing the csv and datetime modules\n",
    "import csv\n",
    "from datetime import datetime"
   ]
  },
  {
   "cell_type": "code",
   "execution_count": 18,
   "metadata": {},
   "outputs": [
    {
     "name": "stdout",
     "output_type": "stream",
     "text": [
      "['Loan Type', 'Branch ID Number', 'Status', 'Closed Date', 'Renewal $ Amount', 'New $ Amount', 'Lender Name']\n",
      "\n",
      "\n",
      "['New', '402', 'Funded', '1/1/2020', '', '375000', 'John'] \n",
      "\n",
      "['Renewal', '502', 'Approved', '', '450000', '', 'Nick'] \n",
      "\n",
      "['Renewal', '475', 'Funded', '3/28/2020', '350000', '', 'Jennifer'] \n",
      "\n",
      "['New', '402', 'Funded', '1/1/2020', '', '50000', 'John'] \n",
      "\n",
      "['New', '100', 'Funded', '1/1/2020', '', '50000', 'Nick'] \n",
      "\n"
     ]
    }
   ],
   "source": [
    "# reading in the Excel file.  Csv file with all the data coming in as a string data type.\n",
    "# using a context manager for safer opening and closing.\n",
    "with open('Test Loan Data File.csv', mode='r') as f: \n",
    "    rows = list(csv.reader(f))\n",
    "    header = rows[0]\n",
    "    file = rows[1:]\n",
    "\n",
    "print(header) # printing the header row\n",
    "print('\\n')\n",
    "for row in file[:5]:\n",
    "    print(row,'\\n') # printing a few rows of data.  The data columns and info are explained below this.\n",
    "    "
   ]
  },
  {
   "cell_type": "markdown",
   "metadata": {},
   "source": [
    "# Explanation of the Data:\n",
    "\n",
    "-Loan Type:  Whether the loan is a brand new deal (new) or renewing an existing loan (renewal)\n",
    "\n",
    "-Branch ID Number:  The bank branch number that initiated the loan request\n",
    "\n",
    "-Status:  Whether the loan closed (funded) or is approved but hasn't closed yet (approved)\n",
    "\n",
    "-Closed Date:  Date the loan closed (only funded loans)\n",
    "\n",
    "-Renewal $ Amount:  Dollar amount of the renewal loan (can be funded or approved status)\n",
    "\n",
    "-New $ Amount:  Dollar amount of the new loan (can be funded or approved status)\n",
    "\n",
    "-Lender Name:  Lender who worked on the request\n",
    "\n",
    "-The empty ' ' means the data wouldn't be entered for that column.  Example:  if a loan was approved but didn't close, the closed date column would be empty.  "
   ]
  },
  {
   "cell_type": "code",
   "execution_count": 7,
   "metadata": {},
   "outputs": [],
   "source": [
    "# creating a function that returns new loans that funded (closed) during a specific time frame.\n",
    "def new_funded_dollars(start_date, end_date):\n",
    "    total = 0\n",
    "    count = 0\n",
    "    for row in file:\n",
    "        closed_date = row[3]\n",
    "        if closed_date != '': # checking for blank values.\n",
    "            begin_date = datetime.strptime(start_date, \"%m/%d/%Y\") # converting the string to a datetime object.\n",
    "            last_date = datetime.strptime(end_date, \"%m/%d/%Y\") \n",
    "            date = datetime.strptime(row[3], \"%m/%d/%Y\")\n",
    "        \n",
    "        if (row[0] == 'New' \n",
    "        and row[2] == 'Funded'\n",
    "        and row[5] != ''\n",
    "        and date >= begin_date\n",
    "        and date <= last_date):\n",
    "            new_loan_amount = int(row[5]) # converting loan amount from a string to an integer.  \n",
    "            total += new_loan_amount\n",
    "            count += 1\n",
    "    print(f\"The total new funded dollars from {start_date} through {end_date} is: ${total:,d} and number of loans: {count}\")"
   ]
  },
  {
   "cell_type": "code",
   "execution_count": 8,
   "metadata": {},
   "outputs": [
    {
     "name": "stdout",
     "output_type": "stream",
     "text": [
      "The total new funded dollars from 01/01/2020 through 03/01/2020 is: $3,830,000 and number of loans: 20\n"
     ]
    }
   ],
   "source": [
    "new_funded_dollars(start_date='01/01/2020', end_date='03/01/2020')"
   ]
  },
  {
   "cell_type": "code",
   "execution_count": 19,
   "metadata": {},
   "outputs": [],
   "source": [
    "# creating a function that returns the number of loans a branch funded (closed) within the desired time frame.\n",
    "# includes both new and renewal closed loans.  \n",
    "# also orders the data by branch id number in ascending order.  The lowest branch id number will display first.\n",
    "def loans_by_branch(start_date, end_date):\n",
    "    new_dictionary = {}\n",
    "    new_count = {}\n",
    "    renewal_dictionary = {}\n",
    "    renewal_count = {}\n",
    "    \n",
    "    for row in file:\n",
    "        closed_date = row[3]\n",
    "        if (closed_date != ''\n",
    "        and row[0] == 'New'):\n",
    "            # converts the start_date argument from a string into a datetime object.\n",
    "            begin_date = datetime.strptime(start_date, \"%m/%d/%Y\")\n",
    "            # converts the end_date argument into a datetime object.\n",
    "            last_date = datetime.strptime(end_date, \"%m/%d/%Y\")\n",
    "            # assigns the closed date column into a datetime object. \n",
    "            date = datetime.strptime(row[3], \"%m/%d/%Y\")\n",
    "            branch_id = row[1]\n",
    "        \n",
    "        if date >= begin_date and date <= last_date and row[0] == 'New' and row[2] == 'Funded' and row[5] != '':\n",
    "            new_loan_amount = int(row[5])\n",
    "            if branch_id not in new_dictionary:\n",
    "                new_dictionary[branch_id] = 1\n",
    "                new_count[branch_id] = new_loan_amount\n",
    "            else:\n",
    "                new_dictionary[branch_id] += 1\n",
    "                new_count[branch_id] += new_loan_amount\n",
    "        \n",
    "        elif date >= begin_date and date <= last_date and row[0] == 'Renewal' and row[2] == 'Funded' and row[4] != '':\n",
    "            renewal_amount = int(row[4])\n",
    "            if branch_id not in renewal_dictionary:\n",
    "                renewal_dictionary[branch_id] = 1\n",
    "                renewal_count[branch_id] = renewal_amount\n",
    "            else:\n",
    "                renewal_dictionary[branch_id] += 1\n",
    "                renewal_count[branch_id] += renewal_amount\n",
    "    \n",
    "    print(f\"For the time period of {start_date} through {end_date}:\")\n",
    "    \n",
    "    # unpacking all items in one dictionary and just the values in the second dictionary.\n",
    "    for (k, v), (v2) in sorted(zip(new_dictionary.items(), new_count.values())):  \n",
    "        print(f\"Branch ID number {k} closed {v} new loan/s for a total of ${v2:,d}\")\n",
    "    print('\\n')\n",
    "    \n",
    "    for (k, v), (v2) in sorted(zip(renewal_dictionary.items(), renewal_count.values())):\n",
    "        print(f\"Branch ID number {k} closed {v} renewal loan/s for a total of ${v2:,d}\")"
   ]
  },
  {
   "cell_type": "code",
   "execution_count": 20,
   "metadata": {},
   "outputs": [
    {
     "name": "stdout",
     "output_type": "stream",
     "text": [
      "For the time period of 01/01/2020 through 03/20/2020:\n",
      "Branch ID number 100 closed 8 new loan/s for a total of $1,880,000\n",
      "Branch ID number 200 closed 2 new loan/s for a total of $100,000\n",
      "Branch ID number 402 closed 4 new loan/s for a total of $850,000\n",
      "Branch ID number 405 closed 2 new loan/s for a total of $250,000\n",
      "Branch ID number 475 closed 2 new loan/s for a total of $270,000\n",
      "Branch ID number 538 closed 2 new loan/s for a total of $480,000\n",
      "\n",
      "\n",
      "Branch ID number 100 closed 2 renewal loan/s for a total of $90,000\n",
      "Branch ID number 200 closed 6 renewal loan/s for a total of $610,000\n",
      "Branch ID number 402 closed 2 renewal loan/s for a total of $700,000\n",
      "Branch ID number 538 closed 4 renewal loan/s for a total of $380,000\n"
     ]
    }
   ],
   "source": [
    "loans_by_branch('01/01/2020', '03/20/2020')"
   ]
  },
  {
   "cell_type": "code",
   "execution_count": 11,
   "metadata": {},
   "outputs": [],
   "source": [
    "# creates a function that returns the number of current approved new and renewal loans.  \n",
    "def active_pipeline():\n",
    "    new_loan_total = 0\n",
    "    new_loan_count = 0\n",
    "    renewal_loan_total = 0\n",
    "    renewal_loan_count = 0\n",
    "    \n",
    "    for row in file:\n",
    "        status = row[2]\n",
    "        if (status == 'Approved'\n",
    "        and row[0] == 'New'\n",
    "        and row[5] != ''):\n",
    "            new_loan_amount = int(row[5])\n",
    "            new_loan_total += new_loan_amount\n",
    "            new_loan_count += 1\n",
    "        \n",
    "        if (status == 'Approved'\n",
    "        and row[0] == 'Renewal'\n",
    "        and row[4] != ''):\n",
    "            renewal_loan_amount = int(row[4])\n",
    "            renewal_loan_total += renewal_loan_amount\n",
    "            renewal_loan_count += 1\n",
    "    \n",
    "    print(f\"The current new approved loan pipeline is: ${new_loan_total:,d} and the number of loans is: {new_loan_count}\")\n",
    "    print(f\"The current renewal approved loan pipeline is: ${renewal_loan_total:,d} and the number of loans is: {renewal_loan_count}\")\n",
    "    "
   ]
  },
  {
   "cell_type": "code",
   "execution_count": 12,
   "metadata": {},
   "outputs": [
    {
     "name": "stdout",
     "output_type": "stream",
     "text": [
      "The current new approved loan pipeline is: $2,230,000 and the number of loans is: 8\n",
      "The current renewal approved loan pipeline is: $2,300,000 and the number of loans is: 6\n"
     ]
    }
   ],
   "source": [
    "active_pipeline()"
   ]
  },
  {
   "cell_type": "code",
   "execution_count": 14,
   "metadata": {},
   "outputs": [],
   "source": [
    "# creates a function that returns the closed (funded) amount and number of loans for each lender in a given time period.\n",
    "# filters for both new and renewal loans and the last line sums up the total during the time period.\n",
    "# Sorts the data by total $ amount closed by lender in decending order.  The lender who closed the largest amount is first.\n",
    "def loans_by_lender(start_date, end_date):\n",
    "    new_loan_dictionary = {}\n",
    "    renewal_dictionary = {}\n",
    "    new_loan_count = {}\n",
    "    renewal_loan_count = {}\n",
    "    \n",
    "    for row in file:\n",
    "        closed_date = row[3]\n",
    "        if closed_date != '':\n",
    "            # converts the start_date parameter from a string into a datetime object.\n",
    "            begin_date = datetime.strptime(start_date, '%m/%d/%Y')\n",
    "            # converts the end_date into a datetime object\n",
    "            last_date = datetime.strptime(end_date, '%m/%d/%Y')\n",
    "            # assigns the closed date column into a datetime object.\n",
    "            date = datetime.strptime(row[3], '%m/%d/%Y')\n",
    "            # if statement to filter for only new loans during the start_date and end_date parameters\n",
    "            lender_name = row[-1]\n",
    "        \n",
    "        if date >= begin_date and date <= last_date and row[2] == 'Funded' and row[5] != '' and row[0] == 'New':\n",
    "            new_amount = int(row[5])\n",
    "            if lender_name not in new_loan_dictionary:\n",
    "                new_loan_dictionary[lender_name] = new_amount\n",
    "                new_loan_count[lender_name] = 1\n",
    "            else:\n",
    "                new_loan_dictionary[lender_name] += new_amount\n",
    "                new_loan_count[lender_name] += 1\n",
    "        \n",
    "        elif date >= begin_date and date <= last_date and row[2] == 'Funded' and row[4] != '' and row[0] == 'Renewal':\n",
    "            renewal_amount = int(row[4])\n",
    "            if lender_name not in renewal_dictionary:\n",
    "                renewal_dictionary[lender_name] = renewal_amount\n",
    "                renewal_loan_count[lender_name] = 1\n",
    "            else:\n",
    "                renewal_dictionary[lender_name] += renewal_amount\n",
    "                renewal_loan_count[lender_name] += 1\n",
    "    \n",
    "    # sorts the data by dictionary values in desencing order (labmda function sorts by the dictionary values).            \n",
    "    sorted_1 = sorted(new_loan_dictionary.items(), key=lambda x: x[1], reverse=True)\n",
    "    # sorted function generates a list.  This converts the data back into a dictionary.  \n",
    "    new_loan_dictionary = dict(sorted_1)\n",
    "    \n",
    "    sorted_2 = sorted(renewal_dictionary.items(), key=lambda x: x[1], reverse=True)\n",
    "    renewal_dictionary = dict(sorted_2)\n",
    "    \n",
    "    print(f\"For the time period {start_date} through {end_date}:\")\n",
    "    for (k, v), (v2) in zip(new_loan_dictionary.items(), new_loan_count.values()): # unpacking two dictionaries.\n",
    "        print(f\"{k} closed {v2} new loan/s totaling ${v:,d}\")\n",
    "    print('\\n')    \n",
    "    \n",
    "    print(f\"The total new funded amount from {start_date} through {end_date} is: ${sum(new_loan_dictionary.values()):,d} and number of loans is: {sum(new_loan_count.values())}\")\n",
    "    print('\\n')\n",
    "    \n",
    "    print(f\"For the time period {start_date} through {end_date}:\")\n",
    "    for (k, v), (k2, v2) in zip(renewal_dictionary.items(), renewal_loan_count.items()):\n",
    "        print(f\"{k} closed {v2} renewal loan/s totaling ${v:,d}\")\n",
    "    print('\\n')    \n",
    "    \n",
    "    print(f\"The total funded renewal amount from {start_date} through {end_date} is: ${sum(renewal_dictionary.values()):,d} and number of loans is: {sum(renewal_loan_count.values())}\")\n",
    "            \n",
    "        "
   ]
  },
  {
   "cell_type": "code",
   "execution_count": 15,
   "metadata": {},
   "outputs": [
    {
     "name": "stdout",
     "output_type": "stream",
     "text": [
      "For the time period 01/01/2020 through 03/01/2020:\n",
      "John closed 8 new loan/s totaling $2,000,000\n",
      "Nick closed 4 new loan/s totaling $780,000\n",
      "Sam closed 2 new loan/s totaling $680,000\n",
      "Jennifer closed 4 new loan/s totaling $270,000\n",
      "Steve closed 2 new loan/s totaling $100,000\n",
      "\n",
      "\n",
      "The total new funded amount from 01/01/2020 through 03/01/2020 is: $3,830,000 and number of loans is: 20\n",
      "\n",
      "\n",
      "For the time period 01/01/2020 through 03/01/2020:\n",
      "Jennifer closed 4 renewal loan/s totaling $340,000\n",
      "Nick closed 2 renewal loan/s totaling $130,000\n",
      "\n",
      "\n",
      "The total funded renewal amount from 01/01/2020 through 03/01/2020 is: $470,000 and number of loans is: 6\n"
     ]
    }
   ],
   "source": [
    "loans_by_lender('01/01/2020', '03/01/2020')"
   ]
  },
  {
   "cell_type": "markdown",
   "metadata": {},
   "source": [
    "When run all together, the following script would be simple to use for the data analyst and work as more data gets added to the database.  The user just needs to update the date and can run different time periods.  The analyst can also put in different dates within each individual function and it works as well.   "
   ]
  },
  {
   "cell_type": "code",
   "execution_count": 16,
   "metadata": {},
   "outputs": [
    {
     "name": "stdout",
     "output_type": "stream",
     "text": [
      "The total new funded dollars from 01/01/2020 through 03/20/2020 is: $3,830,000 and number of loans: 20\n",
      "\n",
      "\n",
      "For the time period of 01/01/2020 through 03/20/2020:\n",
      "Branch ID number 100 closed 8 new loan/s for a total of $1,880,000\n",
      "Branch ID number 200 closed 2 new loan/s for a total of $100,000\n",
      "Branch ID number 402 closed 4 new loan/s for a total of $850,000\n",
      "Branch ID number 405 closed 2 new loan/s for a total of $250,000\n",
      "Branch ID number 475 closed 2 new loan/s for a total of $270,000\n",
      "Branch ID number 538 closed 2 new loan/s for a total of $480,000\n",
      "\n",
      "\n",
      "Branch ID number 100 closed 2 renewal loan/s for a total of $90,000\n",
      "Branch ID number 200 closed 6 renewal loan/s for a total of $610,000\n",
      "Branch ID number 402 closed 2 renewal loan/s for a total of $700,000\n",
      "Branch ID number 538 closed 4 renewal loan/s for a total of $380,000\n",
      "\n",
      "\n",
      "The current new approved loan pipeline is: $2,230,000 and the number of loans is: 8\n",
      "The current renewal approved loan pipeline is: $2,300,000 and the number of loans is: 6\n",
      "\n",
      "\n",
      "For the time period 01/01/2020 through 03/20/2020:\n",
      "John closed 8 new loan/s totaling $2,000,000\n",
      "Nick closed 4 new loan/s totaling $780,000\n",
      "Sam closed 2 new loan/s totaling $680,000\n",
      "Jennifer closed 4 new loan/s totaling $270,000\n",
      "Steve closed 2 new loan/s totaling $100,000\n",
      "\n",
      "\n",
      "The total new funded amount from 01/01/2020 through 03/20/2020 is: $3,830,000 and number of loans is: 20\n",
      "\n",
      "\n",
      "For the time period 01/01/2020 through 03/20/2020:\n",
      "Steve closed 4 renewal loan/s totaling $450,000\n",
      "Jennifer closed 2 renewal loan/s totaling $340,000\n",
      "Sam closed 2 renewal loan/s totaling $160,000\n",
      "Nick closed 4 renewal loan/s totaling $130,000\n",
      "\n",
      "\n",
      "The total funded renewal amount from 01/01/2020 through 03/20/2020 is: $1,080,000 and number of loans is: 12\n"
     ]
    }
   ],
   "source": [
    "new_funded_dollars(start_date='01/01/2020', end_date='03/20/2020')\n",
    "print('\\n')\n",
    "loans_by_branch(start_date='01/01/2020', end_date='03/20/2020')\n",
    "print('\\n')\n",
    "active_pipeline()\n",
    "print('\\n')\n",
    "loans_by_lender(start_date='01/01/2020', end_date='03/20/2020')"
   ]
  },
  {
   "cell_type": "code",
   "execution_count": 17,
   "metadata": {},
   "outputs": [
    {
     "name": "stdout",
     "output_type": "stream",
     "text": [
      "For the time period 01/15/2020 through 02/25/2020:\n",
      "Nick closed 2 new loan/s totaling $680,000\n",
      "John closed 2 new loan/s totaling $250,000\n",
      "\n",
      "\n",
      "The total new funded amount from 01/15/2020 through 02/25/2020 is: $930,000 and number of loans is: 4\n",
      "\n",
      "\n",
      "For the time period 01/15/2020 through 02/25/2020:\n",
      "Jennifer closed 4 renewal loan/s totaling $340,000\n",
      "Nick closed 2 renewal loan/s totaling $130,000\n",
      "\n",
      "\n",
      "The total funded renewal amount from 01/15/2020 through 02/25/2020 is: $470,000 and number of loans is: 6\n"
     ]
    }
   ],
   "source": [
    "# different date with one function:\n",
    "loans_by_lender(start_date='01/15/2020', end_date='02/25/2020')"
   ]
  }
 ],
 "metadata": {
  "kernelspec": {
   "display_name": "Python 3",
   "language": "python",
   "name": "python3"
  },
  "language_info": {
   "codemirror_mode": {
    "name": "ipython",
    "version": 3
   },
   "file_extension": ".py",
   "mimetype": "text/x-python",
   "name": "python",
   "nbconvert_exporter": "python",
   "pygments_lexer": "ipython3",
   "version": "3.7.1"
  }
 },
 "nbformat": 4,
 "nbformat_minor": 2
}
